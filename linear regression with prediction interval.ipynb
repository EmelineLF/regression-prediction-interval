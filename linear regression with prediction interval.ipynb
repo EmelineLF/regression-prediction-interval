{
 "cells": [
  {
   "cell_type": "code",
   "execution_count": 1,
   "metadata": {
    "collapsed": false
   },
   "outputs": [],
   "source": [
    "import pandas as pd\n",
    "import numpy as np\n",
    "from sklearn import datasets, linear_model\n",
    "from __future__ import division"
   ]
  },
  {
   "cell_type": "code",
   "execution_count": 2,
   "metadata": {
    "collapsed": true
   },
   "outputs": [],
   "source": [
    "class LRPI:\n",
    "    def __init__(self, normalize=False, n_jobs=1, t_value = 2.13144955):\n",
    "        self.normalize = normalize\n",
    "        self.n_jobs = n_jobs\n",
    "        self.LR = linear_model.LinearRegression(normalize=self.normalize, n_jobs= self.n_jobs)\n",
    "        self.t_value = t_value\n",
    "        \n",
    "    def fit(self, X_train, y_train):\n",
    "        self.X_train = pd.DataFrame(X_train.values)\n",
    "        self.y_train = pd.DataFrame(y_train.values)\n",
    "        \n",
    "        self.LR.fit(self.X_train, self.y_train)\n",
    "        X_train_fit = self.LR.predict(self.X_train)\n",
    "        self.MSE = np.power(self.y_train.subtract(X_train_fit), 2).sum(axis=0) / (self.X_train.shape[0] - self.X_train.shape[1] - 1)\n",
    "        self.X_train.loc[:, 'const_one'] = 1\n",
    "        self.XTX_inv = np.linalg.inv(np.dot(np.transpose(self.X_train.values) , self.X_train.values))\n",
    "        \n",
    "    def predict(self, X_test):\n",
    "        self.X_test = pd.DataFrame(X_test.values)\n",
    "        self.pred = self.LR.predict(self.X_test)\n",
    "        self.X_test.loc[: , 'const_one'] =1\n",
    "        SE = [np.dot(np.transpose(self.X_test.values[i]) , np.dot(self.XTX_inv, self.X_test.values[i]) ) for i in range(len(self.X_test)) ]\n",
    "        results = pd.DataFrame(self.pred , columns=['Pred'])\n",
    "        \n",
    "        results.loc[:,\"lower\"] = results['Pred'].subtract((self.t_value)* (np.sqrt(self.MSE.values + np.multiply(SE,self.MSE.values) )),  axis=0)\n",
    "        results.loc[:,\"upper\"] = results['Pred'].add((self.t_value)* (np.sqrt(self.MSE.values + np.multiply(SE,self.MSE.values) )),  axis=0)\n",
    "        \n",
    "        return results"
   ]
  },
  {
   "cell_type": "code",
   "execution_count": 3,
   "metadata": {
    "collapsed": true
   },
   "outputs": [],
   "source": [
    "data = pd.DataFrame(datasets.load_diabetes().data)\n",
    "target = pd.DataFrame(datasets.load_diabetes().target)"
   ]
  },
  {
   "cell_type": "code",
   "execution_count": 4,
   "metadata": {
    "collapsed": false
   },
   "outputs": [],
   "source": [
    "X_train = data.iloc[:-30 ]\n",
    "y_train = target.iloc[: -30 ]\n",
    "\n",
    "X_test = data.iloc[-30: ]\n",
    "y_test = target.iloc[-30: ]"
   ]
  },
  {
   "cell_type": "code",
   "execution_count": 5,
   "metadata": {
    "collapsed": false
   },
   "outputs": [],
   "source": [
    "model = LRPI()\n",
    "model.fit(X_train, y_train)"
   ]
  },
  {
   "cell_type": "code",
   "execution_count": 6,
   "metadata": {
    "collapsed": false
   },
   "outputs": [
    {
     "data": {
      "text/html": [
       "<div>\n",
       "<table border=\"1\" class=\"dataframe\">\n",
       "  <thead>\n",
       "    <tr style=\"text-align: right;\">\n",
       "      <th></th>\n",
       "      <th>Pred</th>\n",
       "      <th>lower</th>\n",
       "      <th>upper</th>\n",
       "    </tr>\n",
       "  </thead>\n",
       "  <tbody>\n",
       "    <tr>\n",
       "      <th>0</th>\n",
       "      <td>234.040695</td>\n",
       "      <td>115.313069</td>\n",
       "      <td>352.768320</td>\n",
       "    </tr>\n",
       "    <tr>\n",
       "      <th>1</th>\n",
       "      <td>122.922466</td>\n",
       "      <td>4.996653</td>\n",
       "      <td>240.848279</td>\n",
       "    </tr>\n",
       "    <tr>\n",
       "      <th>2</th>\n",
       "      <td>166.354331</td>\n",
       "      <td>47.642949</td>\n",
       "      <td>285.065713</td>\n",
       "    </tr>\n",
       "    <tr>\n",
       "      <th>3</th>\n",
       "      <td>174.392229</td>\n",
       "      <td>56.049506</td>\n",
       "      <td>292.734952</td>\n",
       "    </tr>\n",
       "    <tr>\n",
       "      <th>4</th>\n",
       "      <td>226.948514</td>\n",
       "      <td>107.843118</td>\n",
       "      <td>346.053910</td>\n",
       "    </tr>\n",
       "    <tr>\n",
       "      <th>5</th>\n",
       "      <td>151.821902</td>\n",
       "      <td>33.002894</td>\n",
       "      <td>270.640910</td>\n",
       "    </tr>\n",
       "    <tr>\n",
       "      <th>6</th>\n",
       "      <td>100.943585</td>\n",
       "      <td>-17.585884</td>\n",
       "      <td>219.473054</td>\n",
       "    </tr>\n",
       "    <tr>\n",
       "      <th>7</th>\n",
       "      <td>83.089561</td>\n",
       "      <td>-35.107119</td>\n",
       "      <td>201.286241</td>\n",
       "    </tr>\n",
       "    <tr>\n",
       "      <th>8</th>\n",
       "      <td>143.129867</td>\n",
       "      <td>24.313062</td>\n",
       "      <td>261.946671</td>\n",
       "    </tr>\n",
       "    <tr>\n",
       "      <th>9</th>\n",
       "      <td>192.678237</td>\n",
       "      <td>74.918278</td>\n",
       "      <td>310.438195</td>\n",
       "    </tr>\n",
       "  </tbody>\n",
       "</table>\n",
       "</div>"
      ],
      "text/plain": [
       "         Pred       lower       upper\n",
       "0  234.040695  115.313069  352.768320\n",
       "1  122.922466    4.996653  240.848279\n",
       "2  166.354331   47.642949  285.065713\n",
       "3  174.392229   56.049506  292.734952\n",
       "4  226.948514  107.843118  346.053910\n",
       "5  151.821902   33.002894  270.640910\n",
       "6  100.943585  -17.585884  219.473054\n",
       "7   83.089561  -35.107119  201.286241\n",
       "8  143.129867   24.313062  261.946671\n",
       "9  192.678237   74.918278  310.438195"
      ]
     },
     "execution_count": 6,
     "metadata": {},
     "output_type": "execute_result"
    }
   ],
   "source": [
    "results = model.predict(X_test)\n",
    "results.head(10)"
   ]
  }
 ],
 "metadata": {
  "kernelspec": {
   "display_name": "Python 2",
   "language": "python",
   "name": "python2"
  },
  "language_info": {
   "codemirror_mode": {
    "name": "ipython",
    "version": 2
   },
   "file_extension": ".py",
   "mimetype": "text/x-python",
   "name": "python",
   "nbconvert_exporter": "python",
   "pygments_lexer": "ipython2",
   "version": "2.7.11"
  }
 },
 "nbformat": 4,
 "nbformat_minor": 0
}
